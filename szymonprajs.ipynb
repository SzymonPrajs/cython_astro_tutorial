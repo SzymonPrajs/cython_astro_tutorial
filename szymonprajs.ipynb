{
 "cells": [
  {
   "cell_type": "markdown",
   "metadata": {},
   "source": [
    "# 0) Why is Python slower than C?"
   ]
  },
  {
   "cell_type": "markdown",
   "metadata": {},
   "source": [
    "### Difference between interpreted and compiled languages\n",
    "\n",
    "\n",
    "### Variable type interpretation\n",
    "\n",
    "\n",
    "### Python Object type\n",
    "\n",
    "\n",
    "### Snippet examples"
   ]
  },
  {
   "cell_type": "markdown",
   "metadata": {},
   "source": [
    "# 1) Getitng started with `Cython`\n",
    "### Installing Cython\n",
    "As always there are multiple ways of installing `cython`, by far the easiest and near bulletprove method is to use Anaconda Python (or Astroconda) which should come with `cython` already installed. If it is not then simply\n",
    "```\n",
    "conda install cython\n",
    "```\n",
    "<!--- We need to check what is needed to get cython running in the notebook in case it's not configured properly--->\n",
    "Alternatively you can install using `pip`:\n",
    "\n",
    "```\n",
    "pip install cython\n",
    "```\n",
    "\n",
    "### Using `Cython` in Jupyter notebook\n",
    "One of the easiest and most elegant ways of using `cython` is to integrate it into your Jupyter notebook work flow which we will first introduce in this section. Section 3 and 4 of this tutorial will cover how to turn your cython functions into standalone modules that can be use with any python software.\n",
    "\n",
    "Let's first start by enabling `cython` functionality in Jupyter notebooks. We can do this by loading the `cython` magic module "
   ]
  },
  {
   "cell_type": "code",
   "execution_count": 2,
   "metadata": {},
   "outputs": [],
   "source": [
    "%load_ext cython"
   ]
  },
  {
   "cell_type": "markdown",
   "metadata": {},
   "source": [
    "Let's first write a simple function in 'pure' Python that you would expect to take a long time to execute. What you might have experienced before is that Python is pretty slow when nesting operations in `for` loops."
   ]
  },
  {
   "cell_type": "code",
   "execution_count": 3,
   "metadata": {
    "collapsed": true
   },
   "outputs": [],
   "source": [
    "def py_2d_list_aggregate(list_2d):\n",
    "    agg = 0\n",
    "    for i in range(len(list_2d)):\n",
    "        for j in range(len(list_2d[i])):\n",
    "            agg += list_2d[i][j]\n",
    "    \n",
    "    return agg"
   ]
  },
  {
   "cell_type": "markdown",
   "metadata": {},
   "source": [
    "We should create some test data and see how our aggregate function will perform"
   ]
  },
  {
   "cell_type": "code",
   "execution_count": 7,
   "metadata": {
    "collapsed": true
   },
   "outputs": [],
   "source": [
    "test_list = [[x for x in range(10000)] for y in range(10000)]"
   ]
  },
  {
   "cell_type": "code",
   "execution_count": 8,
   "metadata": {},
   "outputs": [
    {
     "name": "stdout",
     "output_type": "stream",
     "text": [
      "1 loop, best of 3: 12.8 s per loop\n"
     ]
    }
   ],
   "source": [
    "%%timeit \n",
    "\n",
    "py_2d_list_aggregate(test_list)"
   ]
  },
  {
   "cell_type": "markdown",
   "metadata": {},
   "source": [
    "This is quite slow, let's see "
   ]
  },
  {
   "cell_type": "code",
   "execution_count": 9,
   "metadata": {
    "collapsed": true
   },
   "outputs": [],
   "source": [
    "%%cython\n",
    "\n",
    "def cy_2d_list_aggregate(list_2d):\n",
    "    agg = 0\n",
    "    for i in range(len(list_2d)):\n",
    "        for j in range(len(list_2d[i])):\n",
    "            agg += list_2d[i][j]\n",
    "    \n",
    "    return agg"
   ]
  },
  {
   "cell_type": "code",
   "execution_count": 10,
   "metadata": {},
   "outputs": [
    {
     "name": "stdout",
     "output_type": "stream",
     "text": [
      "1 loop, best of 3: 4.17 s per loop\n"
     ]
    }
   ],
   "source": [
    "%%timeit \n",
    "\n",
    "cy_2d_list_aggregate(test_list)"
   ]
  },
  {
   "cell_type": "code",
   "execution_count": 39,
   "metadata": {
    "collapsed": true
   },
   "outputs": [],
   "source": [
    "%%cython\n",
    "\n",
    "cpdef float cy_cpdef_2d_list_aggregate(list_2d):\n",
    "    cdef float agg = 0\n",
    "    for i in range(len(list_2d)):\n",
    "        for j in range(len(list_2d[i])):\n",
    "            agg += list_2d[i][j]\n",
    "    \n",
    "    return float(agg)"
   ]
  },
  {
   "cell_type": "code",
   "execution_count": 40,
   "metadata": {},
   "outputs": [
    {
     "name": "stdout",
     "output_type": "stream",
     "text": [
      "1 loop, best of 3: 6.08 s per loop\n"
     ]
    }
   ],
   "source": [
    "%%timeit \n",
    "\n",
    "cy_cpdef_2d_list_aggregate(test_list)"
   ]
  }
 ],
 "metadata": {
  "kernelspec": {
   "display_name": "Python [default]",
   "language": "python",
   "name": "python3"
  },
  "language_info": {
   "codemirror_mode": {
    "name": "ipython",
    "version": 3
   },
   "file_extension": ".py",
   "mimetype": "text/x-python",
   "name": "python",
   "nbconvert_exporter": "python",
   "pygments_lexer": "ipython3",
   "version": "3.5.3"
  }
 },
 "nbformat": 4,
 "nbformat_minor": 2
}
