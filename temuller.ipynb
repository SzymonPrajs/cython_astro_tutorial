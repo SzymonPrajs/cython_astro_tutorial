{
 "cells": [
  {
   "cell_type": "markdown",
   "metadata": {},
   "source": [
    "# Building Cython\n",
    "\n",
    "#### Cython code needs to be compiled and this can be done in 2 steps:\n",
    "* A .pyx file is compiled by Cython to a .c file, containing the code of a Python extension module\n",
    "* The .c file is compiled by a C compiler to a .so file (or .pyd on Windows) which can be import-ed directly into a Python session.\n",
    "\n",
    "#### There are a few ways in which you can build your Cython code. Here we present one way of doing it (see the Cython docs for more detailed information)"
   ]
  },
  {
   "cell_type": "markdown",
   "metadata": {},
   "source": [
    "## Building with distutils\n",
    "\n",
    "#### Lets see an example. We will create a file with a simple script:"
   ]
  },
  {
   "cell_type": "code",
   "execution_count": 7,
   "metadata": {
    "collapsed": false
   },
   "outputs": [
    {
     "name": "stdout",
     "output_type": "stream",
     "text": [
      "Writing MathFunc.pyx\n"
     ]
    }
   ],
   "source": [
    "%%file MathFunc.pyx  \n",
    "# remember the .pyx extension\n",
    "\n",
    "def add_numbers(a, b):\n",
    "    return a + b"
   ]
  },
  {
   "cell_type": "markdown",
   "metadata": {},
   "source": [
    "#### Wi will now create another file called setup.py with the following script:"
   ]
  },
  {
   "cell_type": "code",
   "execution_count": 9,
   "metadata": {
    "collapsed": false
   },
   "outputs": [
    {
     "name": "stdout",
     "output_type": "stream",
     "text": [
      "Writing setup.py\n"
     ]
    }
   ],
   "source": [
    "%%file setup.py\n",
    "\n",
    "from distutils.core import setup\n",
    "from Cython.Build import cythonize\n",
    "\n",
    "setup(ext_modules = cythonize(\"MathFunc.pyx\"))"
   ]
  },
  {
   "cell_type": "markdown",
   "metadata": {},
   "source": [
    "#### Finally, to build your code, we must run the next line in your Terminal."
   ]
  },
  {
   "cell_type": "code",
   "execution_count": 10,
   "metadata": {
    "collapsed": false
   },
   "outputs": [
    {
     "name": "stdout",
     "output_type": "stream",
     "text": [
      "Compiling MathFunc.pyx because it changed.\n",
      "[1/1] Cythonizing MathFunc.pyx\n",
      "running build_ext\n",
      "building 'MathFunc' extension\n",
      "creating build\n",
      "creating build/temp.linux-x86_64-2.7\n",
      "gcc -fno-strict-aliasing -g -O2 -DNDEBUG -g -fwrapv -O3 -Wall -Wstrict-prototypes -fPIC -I/home/tomas/anaconda2/include/python2.7 -c MathFunc.c -o build/temp.linux-x86_64-2.7/MathFunc.o\n",
      "gcc -pthread -shared -L/home/tomas/anaconda2/lib -Wl,-rpath=/home/tomas/anaconda2/lib,--no-as-needed build/temp.linux-x86_64-2.7/MathFunc.o -L/home/tomas/anaconda2/lib -lpython2.7 -o /home/tomas/Escritorio/Cython/cython_astro_tutorial/MathFunc.so\n"
     ]
    }
   ],
   "source": [
    "!python setup.py build_ext --inplace"
   ]
  },
  {
   "cell_type": "markdown",
   "metadata": {},
   "source": [
    "#### We can now import our module and use it."
   ]
  },
  {
   "cell_type": "code",
   "execution_count": 11,
   "metadata": {
    "collapsed": false
   },
   "outputs": [
    {
     "name": "stdout",
     "output_type": "stream",
     "text": [
      "5\n"
     ]
    }
   ],
   "source": [
    "import MathFunc as MF\n",
    "\n",
    "result = MF.add_numbers(2,3)\n",
    "print(result)"
   ]
  },
  {
   "cell_type": "code",
   "execution_count": null,
   "metadata": {
    "collapsed": true
   },
   "outputs": [],
   "source": []
  }
 ],
 "metadata": {
  "kernelspec": {
   "display_name": "Python [conda root]",
   "language": "python",
   "name": "conda-root-py"
  },
  "language_info": {
   "codemirror_mode": {
    "name": "ipython",
    "version": 2
   },
   "file_extension": ".py",
   "mimetype": "text/x-python",
   "name": "python",
   "nbconvert_exporter": "python",
   "pygments_lexer": "ipython2",
   "version": "2.7.12"
  }
 },
 "nbformat": 4,
 "nbformat_minor": 1
}
