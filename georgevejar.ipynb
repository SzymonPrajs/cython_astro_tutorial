{
 "cells": [
  {
   "cell_type": "markdown",
   "metadata": {},
   "source": [
    "# Building Cython using AstroPy affiliated packages\n",
    "More information on Cython, AstroPy, and affiliates packages can be found at http://docs.astropy.org/en/stable/development/ccython.html and http://www.astropy.org/affiliated/\n",
    "\n",
    "Affiliated packages will build along with python code. Packages using the AstroPy affiliated package template (https://github.com/astropy/package-template) will also work."
   ]
  },
  {
   "cell_type": "markdown",
   "metadata": {},
   "source": []
  }
 ],
 "metadata": {
  "kernelspec": {
   "display_name": "Python 3",
   "language": "python",
   "name": "python3"
  },
  "language_info": {
   "codemirror_mode": {
    "name": "ipython",
    "version": 3
   },
   "file_extension": ".py",
   "mimetype": "text/x-python",
   "name": "python",
   "nbconvert_exporter": "python",
   "pygments_lexer": "ipython3",
   "version": "3.6.1"
  }
 },
 "nbformat": 4,
 "nbformat_minor": 2
}
